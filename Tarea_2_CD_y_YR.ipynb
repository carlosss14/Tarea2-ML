{
  "nbformat": 4,
  "nbformat_minor": 0,
  "metadata": {
    "colab": {
      "name": "Tarea_2_CD_y_YR.ipynb",
      "provenance": [],
      "collapsed_sections": []
    },
    "kernelspec": {
      "name": "python3",
      "display_name": "Python 3"
    },
    "language_info": {
      "name": "python"
    }
  },
  "cells": [
    {
      "cell_type": "code",
      "metadata": {
        "id": "Th8iaf39Abbp"
      },
      "source": [
        "import pandas as pd\n",
        "import numpy as np\n",
        "import keras\n",
        "import tensorflow as tf\n",
        "import matplotlib.pyplot as plt\n",
        "import tensorflow.keras.backend as kb\n",
        "from pandas import DataFrame\n",
        "from tensorflow.keras import layers\n",
        "from tensorflow.keras import regularizers\n",
        "from sklearn.model_selection import train_test_split\n",
        "from sklearn.metrics import r2_score, mean_squared_error\n",
        "from sklearn.preprocessing import MinMaxScaler"
      ],
      "execution_count": null,
      "outputs": []
    },
    {
      "cell_type": "code",
      "metadata": {
        "colab": {
          "base_uri": "https://localhost:8080/"
        },
        "id": "s7CWzbtLCFxM",
        "outputId": "bba25dc5-bd3c-4b4c-dba7-ec8d719ec723"
      },
      "source": [
        "from google.colab import drive\n",
        "drive.mount('/content/gdrive')#Guardar el dataset en un drive"
      ],
      "execution_count": null,
      "outputs": [
        {
          "output_type": "stream",
          "text": [
            "Mounted at /content/gdrive\n"
          ],
          "name": "stdout"
        }
      ]
    },
    {
      "cell_type": "markdown",
      "metadata": {
        "id": "GwycZUPsllFi"
      },
      "source": [
        "# Obtenemos el dataset"
      ]
    },
    {
      "cell_type": "code",
      "metadata": {
        "id": "SzyVRfZOAhR9"
      },
      "source": [
        "def generateTrainingExamples(df, time_steps=10, time_after=10):\n",
        "    X, y = [], []\n",
        "\n",
        "    for idx in df.trip_id.unique():\n",
        "        trip_df = df[df.trip_id == idx]\n",
        "        trip_df.index = range(len(trip_df))\n",
        "\n",
        "        for i in range(len(trip_df) - time_steps - time_after + 1):\n",
        "            X.append(trip_df.loc[i:i+time_steps-1, ['x', 'y', 'speed', 'angle(rad)']].values)\n",
        "            y.append(trip_df.loc[i+time_steps + time_after-1, ['x', 'y']].values)\n",
        "    \n",
        "    return np.array(X), np.array(y)"
      ],
      "execution_count": null,
      "outputs": []
    },
    {
      "cell_type": "code",
      "metadata": {
        "id": "cxS8XXPVApcz"
      },
      "source": [
        "raw_dataset = pd.read_csv('/content/gdrive/MyDrive/Tarea2/tarea2ML_data.csv',header=0)#, names=column_names, na_values = \"?\", comment='\\t', sep=\" \", skipinitialspace=True)"
      ],
      "execution_count": null,
      "outputs": []
    },
    {
      "cell_type": "code",
      "metadata": {
        "colab": {
          "base_uri": "https://localhost:8080/"
        },
        "id": "G2gyh6cPC4hh",
        "outputId": "4dde5584-7564-435b-b2a8-57ac25f36260"
      },
      "source": [
        "print(raw_dataset.loc[19:100])"
      ],
      "execution_count": null,
      "outputs": [
        {
          "output_type": "stream",
          "text": [
            "     Unnamed: 0              x             y     speed  angle(rad)  trip_id\n",
            "19           19  610044.713891  5.374952e+06  1.669958    6.261849        0\n",
            "20           20  610146.977035  5.374953e+06  1.650271    6.264850        0\n",
            "21           21  610249.621549  5.374952e+06  1.629110    6.268339        0\n",
            "22           22  610347.643053  5.374951e+06  1.610217    6.273378        0\n",
            "23           23  610444.896082  5.374952e+06  1.594987    6.279678        0\n",
            "..          ...            ...           ...       ...         ...      ...\n",
            "96           96  617564.798637  5.374356e+06  1.717916    6.150927        0\n",
            "97           97  617666.230354  5.374343e+06  1.688797    6.153748        0\n",
            "98           98  617767.481320  5.374327e+06  1.657168    6.155387        0\n",
            "99           99  617867.960730  5.374310e+06  1.626771    6.155321        0\n",
            "100         100  617959.526831  5.374301e+06  1.600925    6.153182        0\n",
            "\n",
            "[82 rows x 6 columns]\n"
          ],
          "name": "stdout"
        }
      ]
    },
    {
      "cell_type": "markdown",
      "metadata": {
        "id": "2te777lIdj9H"
      },
      "source": [
        "# Aplicamos MinMax Scaler al dataset"
      ]
    },
    {
      "cell_type": "code",
      "metadata": {
        "id": "ScDxjXReWV46"
      },
      "source": [
        "data = raw_dataset.values[:, 1:-1]\n",
        "trans = MinMaxScaler()\n",
        "data = trans.fit_transform(data)\n",
        "dataset = DataFrame(data)\n",
        "raw_dataset[list(raw_dataset.columns[1:-1])] = dataset"
      ],
      "execution_count": null,
      "outputs": []
    },
    {
      "cell_type": "code",
      "metadata": {
        "id": "btvAabIoBtlq"
      },
      "source": [
        "# Creamos una función para volver el Y desde los valores entre 0 y 1, a sus coordenadas originales.\n",
        "def obtener_coordenadas_originales(scaler_inicial, Y):\n",
        "  scale_inverse = MinMaxScaler()\n",
        "  scale_inverse.min_, scale_inverse.scale_ = scaler_inicial.min_[0:2], scaler_inicial.scale_[0:2]\n",
        "  Y_coords = scale_inverse.inverse_transform(Y) \n",
        "  return Y_coords"
      ],
      "execution_count": null,
      "outputs": []
    },
    {
      "cell_type": "code",
      "metadata": {
        "colab": {
          "base_uri": "https://localhost:8080/"
        },
        "id": "lhWYRyeSc16o",
        "outputId": "713cd45b-d309-4423-a343-33768236c155"
      },
      "source": [
        "print(raw_dataset.loc[0:100])"
      ],
      "execution_count": null,
      "outputs": [
        {
          "output_type": "stream",
          "text": [
            "     Unnamed: 0         x         y     speed  angle(rad)  trip_id\n",
            "0             0  0.042066  0.928932  0.880895    0.961974        0\n",
            "1             1  0.046257  0.926471  0.881960    0.963640        0\n",
            "2             2  0.050581  0.924797  0.882806    0.965815        0\n",
            "3             3  0.054871  0.922934  0.886042    0.968300        0\n",
            "4             4  0.059292  0.921254  0.888469    0.970792        0\n",
            "..          ...       ...       ...       ...         ...      ...\n",
            "96           96  0.410146  0.859590  0.805714    0.978952        0\n",
            "97           97  0.414047  0.858551  0.792057    0.979401        0\n",
            "98           98  0.417942  0.857202  0.777223    0.979661        0\n",
            "99           99  0.421807  0.855734  0.762966    0.979651        0\n",
            "100         100  0.425329  0.854985  0.750844    0.979310        0\n",
            "\n",
            "[101 rows x 6 columns]\n"
          ],
          "name": "stdout"
        }
      ]
    },
    {
      "cell_type": "markdown",
      "metadata": {
        "id": "XLYw2Cmmo1Mt"
      },
      "source": [
        "# Generamos el dataset"
      ]
    },
    {
      "cell_type": "code",
      "metadata": {
        "id": "Rm_kb8nNCmjh"
      },
      "source": [
        "X,Y=generateTrainingExamples(raw_dataset)"
      ],
      "execution_count": null,
      "outputs": []
    },
    {
      "cell_type": "code",
      "metadata": {
        "id": "ImW7B6ysEAQs",
        "colab": {
          "base_uri": "https://localhost:8080/"
        },
        "outputId": "3e74f9ca-73a5-4c41-ace8-97cc1b22dd5d"
      },
      "source": [
        "print(X[19,:])\n",
        "print(Y)"
      ],
      "execution_count": null,
      "outputs": [
        {
          "output_type": "stream",
          "text": [
            "[[1.20889472e-01 9.09849966e-01 7.83221131e-01 9.96605463e-01]\n",
            " [1.24822973e-01 9.09987652e-01 7.73987928e-01 9.97083045e-01]\n",
            " [1.28771143e-01 9.09843191e-01 7.64063310e-01 9.97638279e-01]\n",
            " [1.32541491e-01 9.09785074e-01 7.55202301e-01 9.98440371e-01]\n",
            " [1.36282280e-01 9.09875253e-01 7.48058942e-01 9.99443000e-01]\n",
            " [1.39801948e-01 9.09940340e-01 7.42771737e-01 5.85424967e-04]\n",
            " [1.43268124e-01 9.10336534e-01 7.40150606e-01 1.57203886e-03]\n",
            " [1.47014833e-01 9.10562415e-01 7.39865566e-01 2.26261624e-03]\n",
            " [1.50786442e-01 9.10715168e-01 7.43065841e-01 2.71765665e-03]\n",
            " [1.54323597e-01 9.11283476e-01 7.49887390e-01 2.90526275e-03]]\n",
            "[[0.12088947 0.90984997]\n",
            " [0.12482297 0.90998765]\n",
            " [0.12877114 0.90984319]\n",
            " ...\n",
            " [0.92487349 0.00414209]\n",
            " [0.9249814  0.00452211]\n",
            " [0.92511786 0.00413481]]\n"
          ],
          "name": "stdout"
        }
      ]
    },
    {
      "cell_type": "markdown",
      "metadata": {
        "id": "H0EFBTSCldOp"
      },
      "source": [
        "# Dividimos en set de entrenamiento y testeo"
      ]
    },
    {
      "cell_type": "code",
      "metadata": {
        "id": "9VtwfdDCi626"
      },
      "source": [
        "X_train, X_test, y_train, y_test = train_test_split(X, Y, test_size=.2)"
      ],
      "execution_count": null,
      "outputs": []
    },
    {
      "cell_type": "markdown",
      "metadata": {
        "id": "2Oyucehal0H2"
      },
      "source": [
        "# Definimos la función de pérdida personalizada"
      ]
    },
    {
      "cell_type": "code",
      "metadata": {
        "id": "3CqJpy0Cod0o"
      },
      "source": [
        "def loss_funtion(y_actual,y_pred):\n",
        "    custom_loss=kb.sqrt(kb.square(y_actual[:,0]-y_pred[:,0])+kb.square(y_actual[:,1]-y_pred[:,1]))\n",
        "    return custom_loss"
      ],
      "execution_count": null,
      "outputs": []
    },
    {
      "cell_type": "markdown",
      "metadata": {
        "id": "L3lwb2SCmM3R"
      },
      "source": [
        "# LSTM NN"
      ]
    },
    {
      "cell_type": "code",
      "metadata": {
        "colab": {
          "base_uri": "https://localhost:8080/"
        },
        "id": "umuj5mmFkyE2",
        "outputId": "c8f26138-1043-4f39-d4df-b68e67fa2e90"
      },
      "source": [
        "lstm_units = 128\n",
        "callbacks_lstm = [tf.keras.callbacks.EarlyStopping(monitor='val_loss', patience=25),\n",
        "                  tf.keras.callbacks.ReduceLROnPlateau(monitor='val_loss', factor=0.1, patience=10, min_lr=1e-8)] \n",
        "l1_regularizer_factor_lstm = 0.01\n",
        "l2_regularizer_factor_lstm = 0.001\n",
        "\n",
        "model_lstm = tf.keras.Sequential()\n",
        "\n",
        "model_lstm.add(layers.InputLayer(input_shape=(10,4), dtype=tf.float64, name='Input_Layer'))\n",
        "model_lstm.add(layers.Dense(128)) ##Capa de embedding\n",
        "model_lstm.add(layers.LSTM(lstm_units,                          \n",
        "                           input_shape=(10,4), \n",
        "                           return_sequences=True, \n",
        "                           kernel_regularizer=keras.regularizers.L1L2(l1=l1_regularizer_factor_lstm, l2=l2_regularizer_factor_lstm), \n",
        "                           name='LSTM_1')) # https://www.tensorflow.org/api_docs/python/tf/keras/layers/LSTM \n",
        "model_lstm.add(layers.LSTM(2, name='LSTM_2')) # https://www.tensorflow.org/api_docs/python/tf/keras/layers/LSTM\n",
        "model_lstm.compile('adam', loss=loss_funtion)\n",
        "model_lstm.summary()"
      ],
      "execution_count": null,
      "outputs": [
        {
          "output_type": "stream",
          "text": [
            "Model: \"sequential\"\n",
            "_________________________________________________________________\n",
            "Layer (type)                 Output Shape              Param #   \n",
            "=================================================================\n",
            "dense (Dense)                (None, 10, 128)           640       \n",
            "_________________________________________________________________\n",
            "LSTM_1 (LSTM)                (None, 10, 128)           131584    \n",
            "_________________________________________________________________\n",
            "LSTM_2 (LSTM)                (None, 2)                 1048      \n",
            "=================================================================\n",
            "Total params: 133,272\n",
            "Trainable params: 133,272\n",
            "Non-trainable params: 0\n",
            "_________________________________________________________________\n"
          ],
          "name": "stdout"
        }
      ]
    },
    {
      "cell_type": "code",
      "metadata": {
        "colab": {
          "base_uri": "https://localhost:8080/"
        },
        "id": "GJb1FjjIzpmR",
        "outputId": "ce20d10e-aa21-40ed-d2f4-cab8a47d724f"
      },
      "source": [
        "historylstm = model_lstm.fit(X_train, y_train, validation_split=0.2, batch_size=200, epochs=80, shuffle=True, callbacks=callbacks_lstm)"
      ],
      "execution_count": null,
      "outputs": [
        {
          "output_type": "stream",
          "text": [
            "Epoch 1/80\n",
            "534/534 [==============================] - 43s 74ms/step - loss: 2.3159 - val_loss: 0.1572\n",
            "Epoch 2/80\n",
            "534/534 [==============================] - 39s 73ms/step - loss: 0.1287 - val_loss: 0.1124\n",
            "Epoch 3/80\n",
            "534/534 [==============================] - 39s 72ms/step - loss: 0.1093 - val_loss: 0.1078\n",
            "Epoch 4/80\n",
            "534/534 [==============================] - 39s 72ms/step - loss: 0.1020 - val_loss: 0.0987\n",
            "Epoch 5/80\n",
            "534/534 [==============================] - 38s 72ms/step - loss: 0.0954 - val_loss: 0.0895\n",
            "Epoch 6/80\n",
            "534/534 [==============================] - 38s 72ms/step - loss: 0.0936 - val_loss: 0.0889\n",
            "Epoch 7/80\n",
            "534/534 [==============================] - 39s 73ms/step - loss: 0.0921 - val_loss: 0.0876\n",
            "Epoch 8/80\n",
            "534/534 [==============================] - 39s 72ms/step - loss: 0.0914 - val_loss: 0.0937\n",
            "Epoch 9/80\n",
            "534/534 [==============================] - 39s 72ms/step - loss: 0.0905 - val_loss: 0.0907\n",
            "Epoch 10/80\n",
            "534/534 [==============================] - 38s 72ms/step - loss: 0.0890 - val_loss: 0.0909\n",
            "Epoch 11/80\n",
            "534/534 [==============================] - 38s 72ms/step - loss: 0.0880 - val_loss: 0.0855\n",
            "Epoch 12/80\n",
            "534/534 [==============================] - 39s 72ms/step - loss: 0.0881 - val_loss: 0.0859\n",
            "Epoch 13/80\n",
            "534/534 [==============================] - 39s 72ms/step - loss: 0.0879 - val_loss: 0.0884\n",
            "Epoch 14/80\n",
            "534/534 [==============================] - 39s 72ms/step - loss: 0.0872 - val_loss: 0.0849\n",
            "Epoch 15/80\n",
            "534/534 [==============================] - 39s 73ms/step - loss: 0.0864 - val_loss: 0.0894\n",
            "Epoch 16/80\n",
            "534/534 [==============================] - 39s 72ms/step - loss: 0.0857 - val_loss: 0.0886\n",
            "Epoch 17/80\n",
            "534/534 [==============================] - 38s 72ms/step - loss: 0.0858 - val_loss: 0.0862\n",
            "Epoch 18/80\n",
            "534/534 [==============================] - 38s 72ms/step - loss: 0.0858 - val_loss: 0.0817\n",
            "Epoch 19/80\n",
            "534/534 [==============================] - 38s 72ms/step - loss: 0.0849 - val_loss: 0.0871\n",
            "Epoch 20/80\n",
            "534/534 [==============================] - 38s 72ms/step - loss: 0.0846 - val_loss: 0.0823\n",
            "Epoch 21/80\n",
            "534/534 [==============================] - 38s 72ms/step - loss: 0.0849 - val_loss: 0.0827\n",
            "Epoch 22/80\n",
            "534/534 [==============================] - 38s 72ms/step - loss: 0.0846 - val_loss: 0.0883\n",
            "Epoch 23/80\n",
            "534/534 [==============================] - 39s 72ms/step - loss: 0.0843 - val_loss: 0.0860\n",
            "Epoch 24/80\n",
            "534/534 [==============================] - 38s 72ms/step - loss: 0.0842 - val_loss: 0.0879\n",
            "Epoch 25/80\n",
            "534/534 [==============================] - 39s 72ms/step - loss: 0.0835 - val_loss: 0.0832\n",
            "Epoch 26/80\n",
            "534/534 [==============================] - 39s 72ms/step - loss: 0.0838 - val_loss: 0.0838\n",
            "Epoch 27/80\n",
            "534/534 [==============================] - 39s 73ms/step - loss: 0.0832 - val_loss: 0.0835\n",
            "Epoch 28/80\n",
            "534/534 [==============================] - 39s 73ms/step - loss: 0.0832 - val_loss: 0.0824\n",
            "Epoch 29/80\n",
            "534/534 [==============================] - 39s 72ms/step - loss: 0.0169 - val_loss: 0.0156\n",
            "Epoch 30/80\n",
            "534/534 [==============================] - 39s 72ms/step - loss: 0.0155 - val_loss: 0.0153\n",
            "Epoch 31/80\n",
            "534/534 [==============================] - 39s 73ms/step - loss: 0.0153 - val_loss: 0.0153\n",
            "Epoch 32/80\n",
            "534/534 [==============================] - 39s 72ms/step - loss: 0.0152 - val_loss: 0.0150\n",
            "Epoch 33/80\n",
            "534/534 [==============================] - 39s 73ms/step - loss: 0.0151 - val_loss: 0.0151\n",
            "Epoch 34/80\n",
            "534/534 [==============================] - 39s 73ms/step - loss: 0.0149 - val_loss: 0.0148\n",
            "Epoch 35/80\n",
            "534/534 [==============================] - 39s 73ms/step - loss: 0.0148 - val_loss: 0.0149\n",
            "Epoch 36/80\n",
            "534/534 [==============================] - 39s 73ms/step - loss: 0.0147 - val_loss: 0.0147\n",
            "Epoch 37/80\n",
            "534/534 [==============================] - 39s 73ms/step - loss: 0.0146 - val_loss: 0.0150\n",
            "Epoch 38/80\n",
            "534/534 [==============================] - 39s 73ms/step - loss: 0.0145 - val_loss: 0.0144\n",
            "Epoch 39/80\n",
            "534/534 [==============================] - 39s 74ms/step - loss: 0.0144 - val_loss: 0.0145\n",
            "Epoch 40/80\n",
            "534/534 [==============================] - 39s 73ms/step - loss: 0.0143 - val_loss: 0.0140\n",
            "Epoch 41/80\n",
            "534/534 [==============================] - 39s 73ms/step - loss: 0.0142 - val_loss: 0.0142\n",
            "Epoch 42/80\n",
            "534/534 [==============================] - 39s 73ms/step - loss: 0.0141 - val_loss: 0.0140\n",
            "Epoch 43/80\n",
            "534/534 [==============================] - 39s 73ms/step - loss: 0.0141 - val_loss: 0.0140\n",
            "Epoch 44/80\n",
            "534/534 [==============================] - 39s 73ms/step - loss: 0.0140 - val_loss: 0.0140\n",
            "Epoch 45/80\n",
            "534/534 [==============================] - 39s 73ms/step - loss: 0.0139 - val_loss: 0.0137\n",
            "Epoch 46/80\n",
            "534/534 [==============================] - 39s 73ms/step - loss: 0.0139 - val_loss: 0.0137\n",
            "Epoch 47/80\n",
            "534/534 [==============================] - 39s 73ms/step - loss: 0.0138 - val_loss: 0.0137\n",
            "Epoch 48/80\n",
            "534/534 [==============================] - 39s 74ms/step - loss: 0.0137 - val_loss: 0.0135\n",
            "Epoch 49/80\n",
            "534/534 [==============================] - 39s 73ms/step - loss: 0.0137 - val_loss: 0.0141\n",
            "Epoch 50/80\n",
            "534/534 [==============================] - 39s 73ms/step - loss: 0.0136 - val_loss: 0.0136\n",
            "Epoch 51/80\n",
            "534/534 [==============================] - 39s 72ms/step - loss: 0.0136 - val_loss: 0.0136\n",
            "Epoch 52/80\n",
            "534/534 [==============================] - 39s 72ms/step - loss: 0.0135 - val_loss: 0.0135\n",
            "Epoch 53/80\n",
            "534/534 [==============================] - 39s 72ms/step - loss: 0.0135 - val_loss: 0.0133\n",
            "Epoch 54/80\n",
            "534/534 [==============================] - 38s 72ms/step - loss: 0.0135 - val_loss: 0.0133\n",
            "Epoch 55/80\n",
            "534/534 [==============================] - 38s 72ms/step - loss: 0.0133 - val_loss: 0.0133\n",
            "Epoch 56/80\n",
            "534/534 [==============================] - 38s 72ms/step - loss: 0.0134 - val_loss: 0.0135\n",
            "Epoch 57/80\n",
            "534/534 [==============================] - 38s 72ms/step - loss: 0.0134 - val_loss: 0.0132\n",
            "Epoch 58/80\n",
            "534/534 [==============================] - 39s 72ms/step - loss: 0.0132 - val_loss: 0.0130\n",
            "Epoch 59/80\n",
            "534/534 [==============================] - 39s 72ms/step - loss: 0.0133 - val_loss: 0.0135\n",
            "Epoch 60/80\n",
            "534/534 [==============================] - 39s 72ms/step - loss: 0.0132 - val_loss: 0.0135\n",
            "Epoch 61/80\n",
            "534/534 [==============================] - 39s 73ms/step - loss: 0.0132 - val_loss: 0.0131\n",
            "Epoch 62/80\n",
            "534/534 [==============================] - 39s 73ms/step - loss: 0.0132 - val_loss: 0.0129\n",
            "Epoch 63/80\n",
            "534/534 [==============================] - 39s 73ms/step - loss: 0.0131 - val_loss: 0.0130\n",
            "Epoch 64/80\n",
            "534/534 [==============================] - 39s 72ms/step - loss: 0.0131 - val_loss: 0.0129\n",
            "Epoch 65/80\n",
            "534/534 [==============================] - 39s 72ms/step - loss: 0.0130 - val_loss: 0.0128\n",
            "Epoch 66/80\n",
            "534/534 [==============================] - 39s 72ms/step - loss: 0.0130 - val_loss: 0.0129\n",
            "Epoch 67/80\n",
            "534/534 [==============================] - 39s 73ms/step - loss: 0.0130 - val_loss: 0.0134\n",
            "Epoch 68/80\n",
            "534/534 [==============================] - 39s 73ms/step - loss: 0.0130 - val_loss: 0.0129\n",
            "Epoch 69/80\n",
            "534/534 [==============================] - 39s 73ms/step - loss: 0.0130 - val_loss: 0.0133\n",
            "Epoch 70/80\n",
            "534/534 [==============================] - 39s 73ms/step - loss: 0.0129 - val_loss: 0.0128\n",
            "Epoch 71/80\n",
            "534/534 [==============================] - 39s 73ms/step - loss: 0.0129 - val_loss: 0.0129\n",
            "Epoch 72/80\n",
            "534/534 [==============================] - 39s 73ms/step - loss: 0.0129 - val_loss: 0.0130\n",
            "Epoch 73/80\n",
            "534/534 [==============================] - 39s 73ms/step - loss: 0.0062 - val_loss: 0.0060\n",
            "Epoch 74/80\n",
            "534/534 [==============================] - 39s 73ms/step - loss: 0.0061 - val_loss: 0.0060\n",
            "Epoch 75/80\n",
            "534/534 [==============================] - 39s 73ms/step - loss: 0.0061 - val_loss: 0.0061\n",
            "Epoch 76/80\n",
            "534/534 [==============================] - 39s 73ms/step - loss: 0.0061 - val_loss: 0.0060\n",
            "Epoch 77/80\n",
            "534/534 [==============================] - 39s 73ms/step - loss: 0.0061 - val_loss: 0.0060\n",
            "Epoch 78/80\n",
            "534/534 [==============================] - 39s 73ms/step - loss: 0.0061 - val_loss: 0.0060\n",
            "Epoch 79/80\n",
            "534/534 [==============================] - 39s 73ms/step - loss: 0.0060 - val_loss: 0.0060\n",
            "Epoch 80/80\n",
            "534/534 [==============================] - 39s 73ms/step - loss: 0.0060 - val_loss: 0.0060\n"
          ],
          "name": "stdout"
        }
      ]
    },
    {
      "cell_type": "code",
      "metadata": {
        "id": "7Mn-H7LHMSKT"
      },
      "source": [
        "# Función para graficar el proceso de entrenamiento\n",
        "def train_results(train_loss, val_loss, name=None):\n",
        "  fig, axs = plt.subplots(nrows = 1, ncols = 1, figsize = ((7, 7)))\n",
        "\n",
        "  ax = axs\n",
        "  ax.set_title('Loss', fontsize = 25)\n",
        "  ax.grid(color = 'black', alpha = 0.5, linestyle = 'dashed', linewidth = 0.5)\n",
        "  ax.plot(train_loss, label = 'loss_train', color = 'black', linestyle = '-')\n",
        "  ax.plot(val_loss, label = 'loss_val', color = 'orange')\n",
        "  ax.set_xlabel('Epochs', fontsize = 13)\n",
        "  ax.legend()\n",
        "  plt.savefig(name)"
      ],
      "execution_count": null,
      "outputs": []
    },
    {
      "cell_type": "code",
      "metadata": {
        "colab": {
          "base_uri": "https://localhost:8080/",
          "height": 470
        },
        "id": "mkIZgKw3uaw6",
        "outputId": "4a183b18-bf7d-45ca-fc62-5c28700e40eb"
      },
      "source": [
        "train_results(train_loss=historylstm.history['loss'],      \n",
        "              val_loss=historylstm.history['val_loss'],\n",
        "              name='LSTM.png')"
      ],
      "execution_count": null,
      "outputs": [
        {
          "output_type": "display_data",
          "data": {
            "image/png": "[encoded data removed]",
            "text/plain": [
              "<Figure size 504x504 with 1 Axes>"
            ]
          },
          "metadata": {
            "tags": [],
            "needs_background": "light"
          }
        }
      ]
    },
    {
      "cell_type": "markdown",
      "metadata": {
        "id": "xG_ABgOqlAMK"
      },
      "source": [
        "# Convolutional NN"
      ]
    },
    {
      "cell_type": "code",
      "metadata": {
        "id": "apRT2frulhz2"
      },
      "source": [
        "def get_cnn_model(input_shape):\n",
        "  '''\n",
        "  Esta función recibe como input el input_shape de la red y retorna un CNN model compilado.\n",
        "  '''\n",
        "\n",
        "  l1_regularizer_factor_cnn = 0.01 \n",
        "  l2_regularizer_factor_cnn = 0.001\n",
        "\n",
        "\n",
        "  model_cnn = tf.keras.Sequential()\n",
        "  model_cnn.add(layers.InputLayer(input_shape=input_shape, \n",
        "                                    dtype=tf.float64, \n",
        "                                    name='Input_Layer'))  \n",
        "  model_cnn.add(layers.Conv2D(filters=32, \n",
        "                                kernel_size=(4, 4), \n",
        "                                padding='same', \n",
        "                                activation='relu',                       \n",
        "                                kernel_regularizer=keras.regularizers.L1L2(l1=l1_regularizer_factor_cnn, \n",
        "                                                                          l2=l2_regularizer_factor_cnn) ) )\n",
        "  model_cnn.add(layers.BatchNormalization())\n",
        "  model_cnn.add(layers.MaxPool2D(pool_size=(2, 2), \n",
        "                                    strides=(2, 2) ) )\n",
        "  model_cnn.add(layers.Conv2D(filters=32, \n",
        "                                kernel_size=(4, 4), \n",
        "                                padding='same', \n",
        "                                activation='relu',\n",
        "                                kernel_regularizer=keras.regularizers.L1L2(l1=l1_regularizer_factor_cnn, \n",
        "                                                                          l2=l2_regularizer_factor_cnn) ) )\n",
        "  model_cnn.add(layers.MaxPool2D(pool_size=(2, 2), \n",
        "                                    strides=(2, 2) ) )\n",
        "  model_cnn.add(layers.Flatten())\n",
        "  model_cnn.add(layers.Dense(units=64, \n",
        "                                activation='relu',\n",
        "                                kernel_regularizer=keras.regularizers.L1L2(l1=l1_regularizer_factor_cnn, \n",
        "                                                                          l2=l2_regularizer_factor_cnn) ) )\n",
        "  model_cnn.add(layers.Dense(units=64, \n",
        "                                activation='relu',\n",
        "                                kernel_regularizer=keras.regularizers.L1L2(l1=l1_regularizer_factor_cnn, \n",
        "                                                                          l2=l2_regularizer_factor_cnn) ) )\n",
        "  model_cnn.add(layers.Dense(units=2, \n",
        "                                activation='sigmoid',\n",
        "                                name='ouput_layer'))\n",
        "\n",
        "  # Compilamos el modelo\n",
        "  model_cnn.compile(optimizer='adam',\n",
        "                    loss=loss_funtion)\n",
        "\n",
        "  return model_cnn"
      ],
      "execution_count": null,
      "outputs": []
    },
    {
      "cell_type": "markdown",
      "metadata": {
        "id": "2ik0YUSW_i7T"
      },
      "source": [
        "Probamos primero con el formato orginal (las columnas son las features en la \"imagen\")."
      ]
    },
    {
      "cell_type": "code",
      "metadata": {
        "colab": {
          "base_uri": "https://localhost:8080/"
        },
        "id": "1439zEpBvuod",
        "outputId": "bf4d3775-8f3d-4335-cc9c-de52dc80712b"
      },
      "source": [
        "# Hacemos reshape para ajustar el dataset a formato imagen\n",
        "X_train_cnn = X_train.reshape(X_train.shape + (1,))\n",
        "X_test_cnn = X_test.reshape(X_test.shape + (1,))\n",
        "print('X_train_cnn shape: ',X_train_cnn.shape)\n",
        "print('X_test_cnn shape: ',X_test_cnn.shape)\n",
        "\n",
        "# Definimos y entrenamos el modelo\n",
        "input_shape_cnn = X_train_cnn.shape[1:]\n",
        "model_cnn = get_cnn_model(input_shape_cnn)\n",
        "\n",
        "callbacks_cnn = [tf.keras.callbacks.EarlyStopping(monitor='val_loss', patience=25),\n",
        "                  tf.keras.callbacks.ReduceLROnPlateau(monitor='val_loss', factor=0.1, patience=10, min_lr=1e-8)]\n",
        "\n",
        "history_cnn = model_cnn.fit(X_train_cnn, y_train, validation_split=0.2, batch_size=200, epochs=80, shuffle=True, callbacks=callbacks_cnn)"
      ],
      "execution_count": null,
      "outputs": [
        {
          "output_type": "stream",
          "text": [
            "X_train_cnn shape:  (133335, 10, 4, 1)\n",
            "X_test_cnn shape:  (33334, 10, 4, 1)\n",
            "Epoch 1/80\n",
            "534/534 [==============================] - 13s 23ms/step - loss: 1.8714 - val_loss: 0.3141\n",
            "Epoch 2/80\n",
            "534/534 [==============================] - 11s 21ms/step - loss: 0.1872 - val_loss: 0.1823\n",
            "Epoch 3/80\n",
            "534/534 [==============================] - 11s 21ms/step - loss: 0.1706 - val_loss: 0.1671\n",
            "Epoch 4/80\n",
            "534/534 [==============================] - 11s 21ms/step - loss: 0.1617 - val_loss: 0.1592\n",
            "Epoch 5/80\n",
            "534/534 [==============================] - 12s 22ms/step - loss: 0.1543 - val_loss: 0.1514\n",
            "Epoch 6/80\n",
            "534/534 [==============================] - 11s 21ms/step - loss: 0.1481 - val_loss: 0.1461\n",
            "Epoch 7/80\n",
            "534/534 [==============================] - 11s 21ms/step - loss: 0.1426 - val_loss: 0.1408\n",
            "Epoch 8/80\n",
            "534/534 [==============================] - 11s 21ms/step - loss: 0.1385 - val_loss: 0.1372\n",
            "Epoch 9/80\n",
            "534/534 [==============================] - 11s 21ms/step - loss: 0.1360 - val_loss: 0.1356\n",
            "Epoch 10/80\n",
            "534/534 [==============================] - 12s 22ms/step - loss: 0.1344 - val_loss: 0.1339\n",
            "Epoch 11/80\n",
            "534/534 [==============================] - 11s 22ms/step - loss: 0.1332 - val_loss: 0.1329\n",
            "Epoch 12/80\n",
            "534/534 [==============================] - 11s 21ms/step - loss: 0.1320 - val_loss: 0.1318\n",
            "Epoch 13/80\n",
            "534/534 [==============================] - 11s 21ms/step - loss: 0.1311 - val_loss: 0.1314\n",
            "Epoch 14/80\n",
            "534/534 [==============================] - 11s 21ms/step - loss: 0.1302 - val_loss: 0.1298\n",
            "Epoch 15/80\n",
            "534/534 [==============================] - 11s 22ms/step - loss: 0.1295 - val_loss: 0.1296\n",
            "Epoch 16/80\n",
            "534/534 [==============================] - 11s 21ms/step - loss: 0.1285 - val_loss: 0.1289\n",
            "Epoch 17/80\n",
            "534/534 [==============================] - 12s 22ms/step - loss: 0.1280 - val_loss: 0.1281\n",
            "Epoch 18/80\n",
            "534/534 [==============================] - 12s 22ms/step - loss: 0.1276 - val_loss: 0.1282\n",
            "Epoch 19/80\n",
            "534/534 [==============================] - 11s 21ms/step - loss: 0.1271 - val_loss: 0.1267\n",
            "Epoch 20/80\n",
            "534/534 [==============================] - 12s 22ms/step - loss: 0.1266 - val_loss: 0.1263\n",
            "Epoch 21/80\n",
            "534/534 [==============================] - 12s 22ms/step - loss: 0.1261 - val_loss: 0.1262\n",
            "Epoch 22/80\n",
            "534/534 [==============================] - 12s 22ms/step - loss: 0.1257 - val_loss: 0.1256\n",
            "Epoch 23/80\n",
            "534/534 [==============================] - 12s 22ms/step - loss: 0.1255 - val_loss: 0.1259\n",
            "Epoch 24/80\n",
            "534/534 [==============================] - 11s 21ms/step - loss: 0.1251 - val_loss: 0.1253\n",
            "Epoch 25/80\n",
            "534/534 [==============================] - 11s 21ms/step - loss: 0.1249 - val_loss: 0.1247\n",
            "Epoch 26/80\n",
            "534/534 [==============================] - 11s 21ms/step - loss: 0.1245 - val_loss: 0.1249\n",
            "Epoch 27/80\n",
            "534/534 [==============================] - 11s 21ms/step - loss: 0.1241 - val_loss: 0.1248\n",
            "Epoch 28/80\n",
            "534/534 [==============================] - 12s 22ms/step - loss: 0.1238 - val_loss: 0.1247\n",
            "Epoch 29/80\n",
            "534/534 [==============================] - 12s 22ms/step - loss: 0.1235 - val_loss: 0.1236\n",
            "Epoch 30/80\n",
            "534/534 [==============================] - 12s 22ms/step - loss: 0.1233 - val_loss: 0.1232\n",
            "Epoch 31/80\n",
            "534/534 [==============================] - 12s 22ms/step - loss: 0.1230 - val_loss: 0.1228\n",
            "Epoch 32/80\n",
            "534/534 [==============================] - 12s 22ms/step - loss: 0.1230 - val_loss: 0.1232\n",
            "Epoch 33/80\n",
            "534/534 [==============================] - 12s 22ms/step - loss: 0.1227 - val_loss: 0.1228\n",
            "Epoch 34/80\n",
            "534/534 [==============================] - 12s 22ms/step - loss: 0.1223 - val_loss: 0.1223\n",
            "Epoch 35/80\n",
            "534/534 [==============================] - 12s 22ms/step - loss: 0.1221 - val_loss: 0.1223\n",
            "Epoch 36/80\n",
            "534/534 [==============================] - 12s 22ms/step - loss: 0.1221 - val_loss: 0.1225\n",
            "Epoch 37/80\n",
            "534/534 [==============================] - 12s 22ms/step - loss: 0.1218 - val_loss: 0.1217\n",
            "Epoch 38/80\n",
            "534/534 [==============================] - 12s 22ms/step - loss: 0.1216 - val_loss: 0.1221\n",
            "Epoch 39/80\n",
            "534/534 [==============================] - 12s 22ms/step - loss: 0.1215 - val_loss: 0.1216\n",
            "Epoch 40/80\n",
            "534/534 [==============================] - 12s 22ms/step - loss: 0.1215 - val_loss: 0.1216\n",
            "Epoch 41/80\n",
            "534/534 [==============================] - 12s 22ms/step - loss: 0.1214 - val_loss: 0.1219\n",
            "Epoch 42/80\n",
            "534/534 [==============================] - 12s 22ms/step - loss: 0.1213 - val_loss: 0.1215\n",
            "Epoch 43/80\n",
            "534/534 [==============================] - 12s 22ms/step - loss: 0.1210 - val_loss: 0.1210\n",
            "Epoch 44/80\n",
            "534/534 [==============================] - 12s 22ms/step - loss: 0.1209 - val_loss: 0.1217\n",
            "Epoch 45/80\n",
            "534/534 [==============================] - 12s 22ms/step - loss: 0.1209 - val_loss: 0.1209\n",
            "Epoch 46/80\n",
            "534/534 [==============================] - 12s 22ms/step - loss: 0.1208 - val_loss: 0.1212\n",
            "Epoch 47/80\n",
            "534/534 [==============================] - 12s 22ms/step - loss: 0.1207 - val_loss: 0.1211\n",
            "Epoch 48/80\n",
            "534/534 [==============================] - 12s 22ms/step - loss: 0.1204 - val_loss: 0.1216\n",
            "Epoch 49/80\n",
            "534/534 [==============================] - 12s 22ms/step - loss: 0.1203 - val_loss: 0.1202\n",
            "Epoch 50/80\n",
            "534/534 [==============================] - 12s 22ms/step - loss: 0.1203 - val_loss: 0.1204\n",
            "Epoch 51/80\n",
            "534/534 [==============================] - 12s 22ms/step - loss: 0.1201 - val_loss: 0.1201\n",
            "Epoch 52/80\n",
            "534/534 [==============================] - 12s 22ms/step - loss: 0.1200 - val_loss: 0.1198\n",
            "Epoch 53/80\n",
            "534/534 [==============================] - 12s 22ms/step - loss: 0.1197 - val_loss: 0.1201\n",
            "Epoch 54/80\n",
            "534/534 [==============================] - 12s 22ms/step - loss: 0.1196 - val_loss: 0.1198\n",
            "Epoch 55/80\n",
            "534/534 [==============================] - 12s 22ms/step - loss: 0.1196 - val_loss: 0.1198\n",
            "Epoch 56/80\n",
            "534/534 [==============================] - 12s 22ms/step - loss: 0.1193 - val_loss: 0.1201\n",
            "Epoch 57/80\n",
            "534/534 [==============================] - 12s 22ms/step - loss: 0.1194 - val_loss: 0.1209\n",
            "Epoch 58/80\n",
            "534/534 [==============================] - 12s 22ms/step - loss: 0.1192 - val_loss: 0.1190\n",
            "Epoch 59/80\n",
            "534/534 [==============================] - 12s 22ms/step - loss: 0.1191 - val_loss: 0.1194\n",
            "Epoch 60/80\n",
            "534/534 [==============================] - 12s 22ms/step - loss: 0.1190 - val_loss: 0.1198\n",
            "Epoch 61/80\n",
            "534/534 [==============================] - 12s 22ms/step - loss: 0.1188 - val_loss: 0.1195\n",
            "Epoch 62/80\n",
            "534/534 [==============================] - 12s 22ms/step - loss: 0.1187 - val_loss: 0.1200\n",
            "Epoch 63/80\n",
            "534/534 [==============================] - 12s 22ms/step - loss: 0.1186 - val_loss: 0.1198\n",
            "Epoch 64/80\n",
            "534/534 [==============================] - 12s 22ms/step - loss: 0.1184 - val_loss: 0.1181\n",
            "Epoch 65/80\n",
            "534/534 [==============================] - 12s 22ms/step - loss: 0.1185 - val_loss: 0.1186\n",
            "Epoch 66/80\n",
            "534/534 [==============================] - 12s 22ms/step - loss: 0.1182 - val_loss: 0.1184\n",
            "Epoch 67/80\n",
            "534/534 [==============================] - 12s 22ms/step - loss: 0.1183 - val_loss: 0.1182\n",
            "Epoch 68/80\n",
            "534/534 [==============================] - 12s 22ms/step - loss: 0.1181 - val_loss: 0.1183\n",
            "Epoch 69/80\n",
            "534/534 [==============================] - 12s 22ms/step - loss: 0.1178 - val_loss: 0.1190\n",
            "Epoch 70/80\n",
            "534/534 [==============================] - 12s 22ms/step - loss: 0.1180 - val_loss: 0.1183\n",
            "Epoch 71/80\n",
            "534/534 [==============================] - 12s 22ms/step - loss: 0.1177 - val_loss: 0.1181\n",
            "Epoch 72/80\n",
            "534/534 [==============================] - 12s 22ms/step - loss: 0.1176 - val_loss: 0.1184\n",
            "Epoch 73/80\n",
            "534/534 [==============================] - 12s 22ms/step - loss: 0.1174 - val_loss: 0.1185\n",
            "Epoch 74/80\n",
            "534/534 [==============================] - 12s 22ms/step - loss: 0.1176 - val_loss: 0.1180\n",
            "Epoch 75/80\n",
            "534/534 [==============================] - 12s 22ms/step - loss: 0.1174 - val_loss: 0.1173\n",
            "Epoch 76/80\n",
            "534/534 [==============================] - 12s 22ms/step - loss: 0.1173 - val_loss: 0.1171\n",
            "Epoch 77/80\n",
            "534/534 [==============================] - 12s 22ms/step - loss: 0.1171 - val_loss: 0.1173\n",
            "Epoch 78/80\n",
            "534/534 [==============================] - 12s 22ms/step - loss: 0.1173 - val_loss: 0.1177\n",
            "Epoch 79/80\n",
            "534/534 [==============================] - 12s 22ms/step - loss: 0.1169 - val_loss: 0.1171\n",
            "Epoch 80/80\n",
            "534/534 [==============================] - 12s 22ms/step - loss: 0.1169 - val_loss: 0.1167\n"
          ],
          "name": "stdout"
        }
      ]
    },
    {
      "cell_type": "code",
      "metadata": {
        "colab": {
          "base_uri": "https://localhost:8080/",
          "height": 470
        },
        "id": "PGKltKR85eEa",
        "outputId": "9af4192e-cd33-4954-d206-cf334ffd5a11"
      },
      "source": [
        "# Graficamos el proceso de entrenamiento\n",
        "train_results(train_loss=history_cnn.history['loss'],      \n",
        "              val_loss=history_cnn.history['val_loss'],\n",
        "              name='CNN_1.png')"
      ],
      "execution_count": null,
      "outputs": [
        {
          "output_type": "display_data",
          "data": {
            "image/png": "[encoded data removed]",
            "text/plain": [
              "<Figure size 504x504 with 1 Axes>"
            ]
          },
          "metadata": {
            "tags": [],
            "needs_background": "light"
          }
        }
      ]
    },
    {
      "cell_type": "code",
      "metadata": {
        "colab": {
          "base_uri": "https://localhost:8080/"
        },
        "id": "C9eGqmwsI2Eq",
        "outputId": "8dfce46e-7e03-4668-c4a7-1325ffcdbc59"
      },
      "source": [
        "model_cnn.summary()"
      ],
      "execution_count": null,
      "outputs": [
        {
          "output_type": "stream",
          "text": [
            "Model: \"sequential_1\"\n",
            "_________________________________________________________________\n",
            "Layer (type)                 Output Shape              Param #   \n",
            "=================================================================\n",
            "conv2d (Conv2D)              (None, 10, 4, 32)         544       \n",
            "_________________________________________________________________\n",
            "batch_normalization (BatchNo (None, 10, 4, 32)         128       \n",
            "_________________________________________________________________\n",
            "max_pooling2d (MaxPooling2D) (None, 5, 2, 32)          0         \n",
            "_________________________________________________________________\n",
            "conv2d_1 (Conv2D)            (None, 5, 2, 32)          16416     \n",
            "_________________________________________________________________\n",
            "max_pooling2d_1 (MaxPooling2 (None, 2, 1, 32)          0         \n",
            "_________________________________________________________________\n",
            "flatten (Flatten)            (None, 64)                0         \n",
            "_________________________________________________________________\n",
            "dense_1 (Dense)              (None, 64)                4160      \n",
            "_________________________________________________________________\n",
            "dense_2 (Dense)              (None, 64)                4160      \n",
            "_________________________________________________________________\n",
            "ouput_layer (Dense)          (None, 2)                 130       \n",
            "=================================================================\n",
            "Total params: 25,538\n",
            "Trainable params: 25,474\n",
            "Non-trainable params: 64\n",
            "_________________________________________________________________\n"
          ],
          "name": "stdout"
        }
      ]
    },
    {
      "cell_type": "markdown",
      "metadata": {
        "id": "k2ElFmkUcEMa"
      },
      "source": [
        "Ahora probamos transponiendo filas y columnas, en consecuencia, las filas de la \"imagen\" serán las features.\n",
        "\n"
      ]
    },
    {
      "cell_type": "code",
      "metadata": {
        "colab": {
          "base_uri": "https://localhost:8080/"
        },
        "id": "bERZ4-Abo4oY",
        "outputId": "05215c8a-6aea-448c-ef2c-f9b6dc281ce4"
      },
      "source": [
        "# Transponemos filas y columnas en los samples, para el X_train\n",
        "X_train_transp = X_train.transpose((0,2,1))\n",
        "X_train_cnn_transp = X_train_transp.reshape(X_train_transp.shape + (1,))\n",
        "print('X_train_cnn_transp shape: ', X_train_cnn_transp.shape)\n",
        "\n",
        "# Transponemos filas y columnas en los samples, para el X_test\n",
        "X_test_transp = X_test.transpose((0,2,1))\n",
        "X_test_cnn_transp = X_test_transp.reshape(X_test_transp.shape + (1,))\n",
        "print('X_test_cnn_transp shape: ', X_test_cnn_transp.shape)\n",
        "\n",
        "# Definimos y entrenamos el modelo\n",
        "input_shape_cnn_transp = X_train_cnn_transp.shape[1:]\n",
        "model_cnn_transp = get_cnn_model(input_shape_cnn_transp)\n",
        "\n",
        "callbacks_cnn_transp = [tf.keras.callbacks.EarlyStopping(monitor='val_loss', patience=25),\n",
        "                        tf.keras.callbacks.ReduceLROnPlateau(monitor='val_loss', factor=0.1, patience=10, min_lr=1e-8)]\n",
        "\n",
        "history_cnn_transp = model_cnn_transp.fit(X_train_cnn_transp, y_train, validation_split=0.2, batch_size=200, epochs=80, shuffle=True, callbacks=callbacks_cnn_transp)"
      ],
      "execution_count": null,
      "outputs": [
        {
          "output_type": "stream",
          "text": [
            "X_train_cnn_transp shape:  (133335, 4, 10, 1)\n",
            "X_test_cnn_transp shape:  (33334, 4, 10, 1)\n",
            "Epoch 1/80\n",
            "534/534 [==============================] - 13s 22ms/step - loss: 1.8680 - val_loss: 0.3212\n",
            "Epoch 2/80\n",
            "534/534 [==============================] - 12s 22ms/step - loss: 0.1767 - val_loss: 0.1670\n",
            "Epoch 3/80\n",
            "534/534 [==============================] - 12s 22ms/step - loss: 0.1613 - val_loss: 0.1571\n",
            "Epoch 4/80\n",
            "534/534 [==============================] - 12s 22ms/step - loss: 0.1527 - val_loss: 0.1496\n",
            "Epoch 5/80\n",
            "534/534 [==============================] - 12s 22ms/step - loss: 0.1455 - val_loss: 0.1456\n",
            "Epoch 6/80\n",
            "534/534 [==============================] - 12s 22ms/step - loss: 0.1414 - val_loss: 0.1420\n",
            "Epoch 7/80\n",
            "534/534 [==============================] - 12s 22ms/step - loss: 0.1390 - val_loss: 0.1385\n",
            "Epoch 8/80\n",
            "534/534 [==============================] - 12s 22ms/step - loss: 0.1373 - val_loss: 0.1366\n",
            "Epoch 9/80\n",
            "534/534 [==============================] - 12s 22ms/step - loss: 0.1358 - val_loss: 0.1366\n",
            "Epoch 10/80\n",
            "534/534 [==============================] - 12s 22ms/step - loss: 0.1344 - val_loss: 0.1340\n",
            "Epoch 11/80\n",
            "534/534 [==============================] - 12s 22ms/step - loss: 0.1332 - val_loss: 0.1334\n",
            "Epoch 12/80\n",
            "534/534 [==============================] - 12s 22ms/step - loss: 0.1322 - val_loss: 0.1319\n",
            "Epoch 13/80\n",
            "534/534 [==============================] - 12s 22ms/step - loss: 0.1313 - val_loss: 0.1318\n",
            "Epoch 14/80\n",
            "534/534 [==============================] - 12s 22ms/step - loss: 0.1303 - val_loss: 0.1338\n",
            "Epoch 15/80\n",
            "534/534 [==============================] - 12s 22ms/step - loss: 0.1296 - val_loss: 0.1303\n",
            "Epoch 16/80\n",
            "534/534 [==============================] - 12s 22ms/step - loss: 0.1289 - val_loss: 0.1300\n",
            "Epoch 17/80\n",
            "534/534 [==============================] - 12s 22ms/step - loss: 0.1282 - val_loss: 0.1283\n",
            "Epoch 18/80\n",
            "534/534 [==============================] - 12s 22ms/step - loss: 0.1278 - val_loss: 0.1282\n",
            "Epoch 19/80\n",
            "534/534 [==============================] - 12s 22ms/step - loss: 0.1272 - val_loss: 0.1286\n",
            "Epoch 20/80\n",
            "534/534 [==============================] - 12s 22ms/step - loss: 0.1267 - val_loss: 0.1267\n",
            "Epoch 21/80\n",
            "534/534 [==============================] - 12s 22ms/step - loss: 0.1264 - val_loss: 0.1269\n",
            "Epoch 22/80\n",
            "534/534 [==============================] - 12s 22ms/step - loss: 0.1259 - val_loss: 0.1265\n",
            "Epoch 23/80\n",
            "534/534 [==============================] - 12s 22ms/step - loss: 0.1257 - val_loss: 0.1258\n",
            "Epoch 24/80\n",
            "534/534 [==============================] - 12s 22ms/step - loss: 0.1253 - val_loss: 0.1263\n",
            "Epoch 25/80\n",
            "534/534 [==============================] - 12s 22ms/step - loss: 0.1251 - val_loss: 0.1256\n",
            "Epoch 26/80\n",
            "534/534 [==============================] - 12s 22ms/step - loss: 0.1246 - val_loss: 0.1246\n",
            "Epoch 27/80\n",
            "534/534 [==============================] - 12s 22ms/step - loss: 0.1243 - val_loss: 0.1248\n",
            "Epoch 28/80\n",
            "534/534 [==============================] - 12s 22ms/step - loss: 0.1240 - val_loss: 0.1241\n",
            "Epoch 29/80\n",
            "534/534 [==============================] - 12s 22ms/step - loss: 0.1238 - val_loss: 0.1246\n",
            "Epoch 30/80\n",
            "534/534 [==============================] - 12s 22ms/step - loss: 0.1236 - val_loss: 0.1237\n",
            "Epoch 31/80\n",
            "534/534 [==============================] - 12s 22ms/step - loss: 0.1234 - val_loss: 0.1240\n",
            "Epoch 32/80\n",
            "534/534 [==============================] - 12s 22ms/step - loss: 0.1232 - val_loss: 0.1229\n",
            "Epoch 33/80\n",
            "534/534 [==============================] - 12s 22ms/step - loss: 0.1228 - val_loss: 0.1228\n",
            "Epoch 34/80\n",
            "534/534 [==============================] - 12s 22ms/step - loss: 0.1227 - val_loss: 0.1234\n",
            "Epoch 35/80\n",
            "534/534 [==============================] - 12s 22ms/step - loss: 0.1225 - val_loss: 0.1251\n",
            "Epoch 36/80\n",
            "534/534 [==============================] - 12s 22ms/step - loss: 0.1224 - val_loss: 0.1225\n",
            "Epoch 37/80\n",
            "534/534 [==============================] - 12s 22ms/step - loss: 0.1222 - val_loss: 0.1225\n",
            "Epoch 38/80\n",
            "534/534 [==============================] - 12s 23ms/step - loss: 0.1222 - val_loss: 0.1227\n",
            "Epoch 39/80\n",
            "534/534 [==============================] - 12s 22ms/step - loss: 0.1218 - val_loss: 0.1229\n",
            "Epoch 40/80\n",
            "534/534 [==============================] - 12s 22ms/step - loss: 0.1218 - val_loss: 0.1234\n",
            "Epoch 41/80\n",
            "534/534 [==============================] - 12s 22ms/step - loss: 0.1217 - val_loss: 0.1218\n",
            "Epoch 42/80\n",
            "534/534 [==============================] - 12s 23ms/step - loss: 0.1216 - val_loss: 0.1215\n",
            "Epoch 43/80\n",
            "534/534 [==============================] - 12s 23ms/step - loss: 0.1214 - val_loss: 0.1222\n",
            "Epoch 44/80\n",
            "534/534 [==============================] - 12s 23ms/step - loss: 0.1215 - val_loss: 0.1218\n",
            "Epoch 45/80\n",
            "534/534 [==============================] - 12s 22ms/step - loss: 0.1213 - val_loss: 0.1212\n",
            "Epoch 46/80\n",
            "534/534 [==============================] - 12s 22ms/step - loss: 0.1211 - val_loss: 0.1227\n",
            "Epoch 47/80\n",
            "534/534 [==============================] - 12s 22ms/step - loss: 0.1210 - val_loss: 0.1221\n",
            "Epoch 48/80\n",
            "534/534 [==============================] - 12s 23ms/step - loss: 0.1210 - val_loss: 0.1221\n",
            "Epoch 49/80\n",
            "534/534 [==============================] - 12s 22ms/step - loss: 0.1206 - val_loss: 0.1210\n",
            "Epoch 50/80\n",
            "534/534 [==============================] - 12s 23ms/step - loss: 0.1206 - val_loss: 0.1207\n",
            "Epoch 51/80\n",
            "534/534 [==============================] - 12s 23ms/step - loss: 0.1204 - val_loss: 0.1219\n",
            "Epoch 52/80\n",
            "534/534 [==============================] - 12s 23ms/step - loss: 0.1204 - val_loss: 0.1203\n",
            "Epoch 53/80\n",
            "534/534 [==============================] - 12s 23ms/step - loss: 0.1202 - val_loss: 0.1206\n",
            "Epoch 54/80\n",
            "534/534 [==============================] - 12s 22ms/step - loss: 0.1201 - val_loss: 0.1209\n",
            "Epoch 55/80\n",
            "534/534 [==============================] - 12s 22ms/step - loss: 0.1199 - val_loss: 0.1201\n",
            "Epoch 56/80\n",
            "534/534 [==============================] - 12s 22ms/step - loss: 0.1198 - val_loss: 0.1207\n",
            "Epoch 57/80\n",
            "534/534 [==============================] - 12s 22ms/step - loss: 0.1198 - val_loss: 0.1198\n",
            "Epoch 58/80\n",
            "534/534 [==============================] - 12s 23ms/step - loss: 0.1195 - val_loss: 0.1206\n",
            "Epoch 59/80\n",
            "534/534 [==============================] - 12s 23ms/step - loss: 0.1196 - val_loss: 0.1217\n",
            "Epoch 60/80\n",
            "534/534 [==============================] - 12s 23ms/step - loss: 0.1193 - val_loss: 0.1193\n",
            "Epoch 61/80\n",
            "534/534 [==============================] - 12s 23ms/step - loss: 0.1191 - val_loss: 0.1234\n",
            "Epoch 62/80\n",
            "534/534 [==============================] - 12s 23ms/step - loss: 0.1190 - val_loss: 0.1215\n",
            "Epoch 63/80\n",
            "534/534 [==============================] - 12s 23ms/step - loss: 0.1188 - val_loss: 0.1202\n",
            "Epoch 64/80\n",
            "534/534 [==============================] - 12s 22ms/step - loss: 0.1189 - val_loss: 0.1212\n",
            "Epoch 65/80\n",
            "534/534 [==============================] - 12s 23ms/step - loss: 0.1187 - val_loss: 0.1188\n",
            "Epoch 66/80\n",
            "534/534 [==============================] - 12s 23ms/step - loss: 0.1185 - val_loss: 0.1184\n",
            "Epoch 67/80\n",
            "534/534 [==============================] - 12s 23ms/step - loss: 0.1184 - val_loss: 0.1189\n",
            "Epoch 68/80\n",
            "534/534 [==============================] - 12s 23ms/step - loss: 0.1183 - val_loss: 0.1184\n",
            "Epoch 69/80\n",
            "534/534 [==============================] - 12s 22ms/step - loss: 0.1182 - val_loss: 0.1179\n",
            "Epoch 70/80\n",
            "534/534 [==============================] - 12s 23ms/step - loss: 0.1179 - val_loss: 0.1183\n",
            "Epoch 71/80\n",
            "534/534 [==============================] - 12s 23ms/step - loss: 0.1181 - val_loss: 0.1180\n",
            "Epoch 72/80\n",
            "534/534 [==============================] - 12s 22ms/step - loss: 0.1177 - val_loss: 0.1183\n",
            "Epoch 73/80\n",
            "534/534 [==============================] - 12s 23ms/step - loss: 0.1179 - val_loss: 0.1177\n",
            "Epoch 74/80\n",
            "534/534 [==============================] - 12s 23ms/step - loss: 0.1177 - val_loss: 0.1184\n",
            "Epoch 75/80\n",
            "534/534 [==============================] - 12s 23ms/step - loss: 0.1174 - val_loss: 0.1179\n",
            "Epoch 76/80\n",
            "534/534 [==============================] - 12s 23ms/step - loss: 0.1174 - val_loss: 0.1172\n",
            "Epoch 77/80\n",
            "534/534 [==============================] - 12s 23ms/step - loss: 0.1173 - val_loss: 0.1178\n",
            "Epoch 78/80\n",
            "534/534 [==============================] - 12s 23ms/step - loss: 0.1174 - val_loss: 0.1183\n",
            "Epoch 79/80\n",
            "534/534 [==============================] - 12s 23ms/step - loss: 0.1172 - val_loss: 0.1178\n",
            "Epoch 80/80\n",
            "534/534 [==============================] - 12s 23ms/step - loss: 0.1169 - val_loss: 0.1170\n"
          ],
          "name": "stdout"
        }
      ]
    },
    {
      "cell_type": "code",
      "metadata": {
        "colab": {
          "base_uri": "https://localhost:8080/",
          "height": 470
        },
        "id": "UxeHmrHDL2Ss",
        "outputId": "d395ddca-2507-4ed0-930d-7f87a3012a89"
      },
      "source": [
        "# Graficamos el proceso de entrenamiento\n",
        "train_results(train_loss=history_cnn_transp.history['loss'],      \n",
        "              val_loss=history_cnn_transp.history['val_loss'],\n",
        "              name='CNN_2.png')"
      ],
      "execution_count": null,
      "outputs": [
        {
          "output_type": "display_data",
          "data": {
            "image/png": "[encoded data removed]",
            "text/plain": [
              "<Figure size 504x504 with 1 Axes>"
            ]
          },
          "metadata": {
            "tags": [],
            "needs_background": "light"
          }
        }
      ]
    },
    {
      "cell_type": "code",
      "metadata": {
        "colab": {
          "base_uri": "https://localhost:8080/"
        },
        "id": "tNgs9okjI-UA",
        "outputId": "ff74c80b-98b3-4063-ea69-b6047ce892ae"
      },
      "source": [
        "model_cnn_transp.summary()"
      ],
      "execution_count": null,
      "outputs": [
        {
          "output_type": "stream",
          "text": [
            "Model: \"sequential_2\"\n",
            "_________________________________________________________________\n",
            "Layer (type)                 Output Shape              Param #   \n",
            "=================================================================\n",
            "conv2d_2 (Conv2D)            (None, 4, 10, 32)         544       \n",
            "_________________________________________________________________\n",
            "batch_normalization_1 (Batch (None, 4, 10, 32)         128       \n",
            "_________________________________________________________________\n",
            "max_pooling2d_2 (MaxPooling2 (None, 2, 5, 32)          0         \n",
            "_________________________________________________________________\n",
            "conv2d_3 (Conv2D)            (None, 2, 5, 32)          16416     \n",
            "_________________________________________________________________\n",
            "max_pooling2d_3 (MaxPooling2 (None, 1, 2, 32)          0         \n",
            "_________________________________________________________________\n",
            "flatten_1 (Flatten)          (None, 64)                0         \n",
            "_________________________________________________________________\n",
            "dense_3 (Dense)              (None, 64)                4160      \n",
            "_________________________________________________________________\n",
            "dense_4 (Dense)              (None, 64)                4160      \n",
            "_________________________________________________________________\n",
            "ouput_layer (Dense)          (None, 2)                 130       \n",
            "=================================================================\n",
            "Total params: 25,538\n",
            "Trainable params: 25,474\n",
            "Non-trainable params: 64\n",
            "_________________________________________________________________\n"
          ],
          "name": "stdout"
        }
      ]
    },
    {
      "cell_type": "markdown",
      "metadata": {
        "id": "T-w8JFEGJqfN"
      },
      "source": [
        "# Comparamos los modelos"
      ]
    },
    {
      "cell_type": "code",
      "metadata": {
        "id": "4SJDxWNhJvyy"
      },
      "source": [
        "# Para hacer las comparaciones, primero se volverá a las coordenadas originales,\n",
        "# luego se comparán en base al R cuadrado, R cuadrado ajustado y Mean Square Error\n",
        "y_true = obtener_coordenadas_originales(trans, y_test)\n",
        "\n",
        "# Usamos el primer modelo CNN para predecir.\n",
        "y_pred_cnn = model_cnn.predict(X_test_cnn)\n",
        "# Volvemos a las coordenadas originales el y_pred\n",
        "y_pred_cnn_coords_originales = obtener_coordenadas_originales(trans, y_pred_cnn) \n",
        "\n",
        "# Usamos el segundo modelo CNN para predecir.\n",
        "y_pred_cnn_transp = model_cnn_transp.predict(X_test_cnn_transp)\n",
        "# Volvemos a las coordenadas originales el y_pred\n",
        "y_pred_cnn_transp_coords_originales = obtener_coordenadas_originales(trans, y_pred_cnn_transp)\n",
        "\n",
        "# Usamos el modelo LSTM para predecir.\n",
        "y_pred_lstm = model_lstm.predict(X_test)\n",
        "# Volvemos a las coordenadas originales el y_pred\n",
        "y_pred_lstm_coords_originales = obtener_coordenadas_originales(trans, y_pred_lstm)"
      ],
      "execution_count": null,
      "outputs": []
    },
    {
      "cell_type": "markdown",
      "metadata": {
        "id": "NIDeJ_iyLJiZ"
      },
      "source": [
        "R2 (R cuadrado)"
      ]
    },
    {
      "cell_type": "code",
      "metadata": {
        "colab": {
          "base_uri": "https://localhost:8080/"
        },
        "id": "qYZVI7VhK85B",
        "outputId": "0c198473-61c0-46db-d515-3c0cede4e41d"
      },
      "source": [
        "r2_cnn = r2_score(y_true, y_pred_cnn_coords_originales, \n",
        "                  multioutput='variance_weighted')\n",
        "print('R2 convolutional NN (formato original): ', r2_cnn)\n",
        "\n",
        "r2_cnn_transp = r2_score(y_true, y_pred_cnn_transp_coords_originales, \n",
        "                         multioutput='variance_weighted')\n",
        "print('R2 convolutional NN (transpuesta): ', r2_cnn_transp)\n",
        "\n",
        "r2_lstm = r2_score(y_true, y_pred_lstm_coords_originales, \n",
        "                         multioutput='variance_weighted')\n",
        "print('R2 LSTM NN: ', r2_lstm)"
      ],
      "execution_count": null,
      "outputs": [
        {
          "output_type": "stream",
          "text": [
            "R2 convolutional NN (formato original):  0.9432736189821118\n",
            "R2 convolutional NN (transpuesta):  0.9403072507238409\n",
            "R2 LSTM NN:  0.9998890479113952\n"
          ],
          "name": "stdout"
        }
      ]
    },
    {
      "cell_type": "markdown",
      "metadata": {
        "id": "fySnc9jMPq_v"
      },
      "source": [
        "R2 ajustado (R cuadrado ajustado)\n"
      ]
    },
    {
      "cell_type": "code",
      "metadata": {
        "colab": {
          "base_uri": "https://localhost:8080/"
        },
        "id": "SFpCayqxK82N",
        "outputId": "b6396a6d-7587-4a32-b45f-2621e14efa83"
      },
      "source": [
        "n = X_test.shape[0] # cantidad de samples\n",
        "p = X_test.shape[2] # cantidad de features\n",
        "\n",
        "r2_ajustado_cnn = 1- (1-r2_cnn) * (n-1) / (n-p-1)\n",
        "print('R2 ajustado convolutional NN (formato original): ', r2_ajustado_cnn)\n",
        "\n",
        "r2_ajustado_cnn_transp = 1- (1-r2_cnn_transp) * (n-1) / (n-p-1)\n",
        "print('R2 ajustado convolutional NN (transpuesta): ', r2_ajustado_cnn_transp)\n",
        "\n",
        "r2_ajustado_lstm = 1- (1-r2_lstm) * (n-1) / (n-p-1)\n",
        "print('R2 ajustado LSTM: ', r2_ajustado_lstm)"
      ],
      "execution_count": null,
      "outputs": [
        {
          "output_type": "stream",
          "text": [
            "R2 ajustado convolutional NN (formato original):  0.9432668109313431\n",
            "R2 ajustado convolutional NN (transpuesta):  0.9403000866625998\n",
            "R2 ajustado LSTM:  0.9998890345954135\n"
          ],
          "name": "stdout"
        }
      ]
    },
    {
      "cell_type": "markdown",
      "metadata": {
        "id": "nu7jKn2iQe3w"
      },
      "source": [
        "RMSE (Root Mean Square Error)"
      ]
    },
    {
      "cell_type": "code",
      "metadata": {
        "colab": {
          "base_uri": "https://localhost:8080/"
        },
        "id": "Qm48IPuCK8zW",
        "outputId": "2f0205f3-c26b-4c73-8074-2b7358288eaf"
      },
      "source": [
        "mse_cnn = mean_squared_error(y_true, y_pred_cnn_coords_originales)\n",
        "mse_cnn_transp = mean_squared_error(y_true, y_pred_cnn_transp_coords_originales)\n",
        "mse_lstm = mean_squared_error(y_true, y_pred_lstm_coords_originales)\n",
        "\n",
        "rmse_cnn = np.sqrt(mse_cnn)\n",
        "print('RMSE convolutional NN (formato original): ', rmse_cnn)\n",
        "\n",
        "rmse_cnn_transp = np.sqrt(mse_cnn_transp)\n",
        "print('RMSE convolutional NN (transpuesta): ', rmse_cnn_transp)\n",
        "\n",
        "rmse_lstm = np.sqrt(mse_lstm)\n",
        "print('RMSE LSTM: ', rmse_lstm)"
      ],
      "execution_count": null,
      "outputs": [
        {
          "output_type": "stream",
          "text": [
            "RMSE convolutional NN (formato original):  1207.6683750757106\n",
            "RMSE convolutional NN (transpuesta):  1238.842071400939\n",
            "RMSE LSTM:  53.41003908990357\n"
          ],
          "name": "stdout"
        }
      ]
    },
    {
      "cell_type": "markdown",
      "metadata": {
        "id": "NG3W6DyVhlAA"
      },
      "source": [
        "# Se intentó implementar la parte opcional..."
      ]
    },
    {
      "cell_type": "markdown",
      "metadata": {
        "id": "C_LQqDN1jAn8"
      },
      "source": [
        "##Se definió una nueva función de extracción de datos con tal de aumentar el y esperado para poder calcular una media, desviación estándar y correlación"
      ]
    },
    {
      "cell_type": "code",
      "metadata": {
        "id": "dVMOTW9RirwN"
      },
      "source": [
        "def generateTrainingExamples2(df, time_steps=10, time_after=10):\n",
        "    X, y = [], []\n",
        "\n",
        "    for idx in df.trip_id.unique():\n",
        "        trip_df = df[df.trip_id == idx]\n",
        "        trip_df.index = range(len(trip_df))\n",
        "\n",
        "        for i in range(len(trip_df) - time_steps - time_after + 1):\n",
        "            X.append(trip_df.loc[i:i+time_steps-1, ['x', 'y', 'speed', 'angle(rad)']].values)\n",
        "            y.append(trip_df.loc[i+time_steps + time_after-1-5:i+time_steps + time_after-1+5, ['x', 'y']].values)##Se aumento el tamaño de extraccion\n",
        "    \n",
        "    return np.array(X), np.array(y)"
      ],
      "execution_count": null,
      "outputs": []
    },
    {
      "cell_type": "code",
      "metadata": {
        "id": "b4KrpzXxi4qo",
        "colab": {
          "base_uri": "https://localhost:8080/"
        },
        "outputId": "4381f2f3-ffba-4d33-db33-12cfb1332373"
      },
      "source": [
        "X,Y=generateTrainingExamples2(raw_dataset)"
      ],
      "execution_count": null,
      "outputs": [
        {
          "output_type": "stream",
          "text": [
            "/usr/local/lib/python3.7/dist-packages/ipykernel_launcher.py:12: VisibleDeprecationWarning: Creating an ndarray from ragged nested sequences (which is a list-or-tuple of lists-or-tuples-or ndarrays with different lengths or shapes) is deprecated. If you meant to do this, you must specify 'dtype=object' when creating the ndarray\n",
            "  if sys.path[0] == '':\n"
          ],
          "name": "stderr"
        }
      ]
    },
    {
      "cell_type": "markdown",
      "metadata": {
        "id": "8b3P_nYxiRxM"
      },
      "source": [
        "##Se obtuvo la media, la desviación estándar y la correlación"
      ]
    },
    {
      "cell_type": "code",
      "metadata": {
        "id": "g2LUGOT2hwNg"
      },
      "source": [
        "YMEAN=[]\n",
        "YSTD=[]\n",
        "YCORR=[]\n",
        "##Obtenemos la correlacion de x e y\n",
        "for i in range(166669):\n",
        "  cosita=np.corrcoef(Y[i].T[0],Y[i].T[1])\n",
        "  YCORR.append(cosita[0,1])\n",
        "##Obtenemos la media de x e y\n",
        "for i in range(166669):\n",
        "    YMEAN.append(np.mean(Y[i],axis=0))\n",
        "##Obtenemos la desviacion estadar de x e y\n",
        "for i in range(166669):\n",
        "    YSTD.append(np.std(Y[i],axis=0))\n",
        "\n",
        "YMEAN=np.array(YMEAN)\n",
        "YSTD=np.array(YSTD)\n",
        "YCORR=np.array([YCORR])\n",
        "##Concatenamos y queda (media x, media y, desv x, desv y, corr)\n",
        "YDEFI=np.concatenate((YMEAN,YSTD,YCORR.T),axis=1)"
      ],
      "execution_count": null,
      "outputs": []
    },
    {
      "cell_type": "markdown",
      "metadata": {
        "id": "nwrwPpkAjiQL"
      },
      "source": [
        "##Se volvió a dividir el set de entrenamiento y testeo"
      ]
    },
    {
      "cell_type": "code",
      "metadata": {
        "id": "NfRR-crwjhno"
      },
      "source": [
        "X_train, X_test, y_train, y_test = train_test_split(X, YDEFI, test_size=.2)"
      ],
      "execution_count": null,
      "outputs": []
    },
    {
      "cell_type": "markdown",
      "metadata": {
        "id": "oZ0eZGGsju-z"
      },
      "source": [
        "##Se intentó copiar la funcion de pérdida definida en el paper"
      ]
    },
    {
      "cell_type": "code",
      "metadata": {
        "id": "qnmTn7pNjuBq"
      },
      "source": [
        "def loss_function_paper(vector_real, vector_predicho):\n",
        "\n",
        "  # Desglosamos el vector_real\n",
        "  µ_x = vector_predicho[:,0]\n",
        "  µ_y = vector_predicho[:,1]\n",
        "  σ_x = vector_predicho[:,2]\n",
        "  σ_y = vector_predicho[:,3]\n",
        "  ρ = vector_predicho[:,4]\n",
        "\n",
        "  # Desglosamos el vector_predicho\n",
        "  x = vector_real[:,0]\n",
        "  y = vector_real[:,1]\n",
        "  std_x = vector_real[:,2]\n",
        "  std_y = vector_real[:,3]\n",
        "  corr = vector_real[:,4]\n",
        "\n",
        "  # Ecuación 14\n",
        "  Z = kb.square(x - µ_x)/kb.square(σ_x) + kb.square(y - µ_y)/kb.square(σ_y) - 2*ρ*(x - µ_x)*(y - µ_y)/(σ_x*σ_y)\n",
        "\n",
        "  # Ecuación 13\n",
        "  N = kb.exp(-Z/(2*(1-kb.square(ρ)))) / 2*3.14159265*σ_x*σ_y*kb.sqrt(1-kb.square(ρ))\n",
        "\n",
        "  # Ecuación 12\n",
        "  Pr = N\n",
        "\n",
        "  # Ecuación 11\n",
        "  L = -kb.sum(kb.log(Pr))\n",
        "\n",
        "  return L"
      ],
      "execution_count": null,
      "outputs": []
    },
    {
      "cell_type": "markdown",
      "metadata": {
        "id": "0-mIy2FbkAb-"
      },
      "source": [
        "##Luego se definió el modelo del paper"
      ]
    },
    {
      "cell_type": "code",
      "metadata": {
        "id": "0GLL7DMHkENo",
        "colab": {
          "base_uri": "https://localhost:8080/"
        },
        "outputId": "6db1bc07-807a-420a-b1a7-422b74555131"
      },
      "source": [
        "callbacks_paper = [tf.keras.callbacks.EarlyStopping(monitor='val_loss', patience=25),\n",
        "                  tf.keras.callbacks.ReduceLROnPlateau(monitor='val_loss', factor=0.1, patience=10, min_lr=1e-8)]\n",
        "\n",
        "\n",
        "inputs = keras.layers.Input(shape=(10, 4), name='Inputs')    # <tf.Tensor 'Inputs:0' shape=(?, 10, 4) dtype=float32>\n",
        "embedding = keras.layers.Dense(128)(inputs)                       # <tf.Tensor 'dense_1/add:0' shape=(?, 10, 128) dtype=float32>\n",
        "\n",
        "# Se obtiene la secuencia y el estado h1\n",
        "lstm_1_sequence, lstm_1_state_h, lstm_1_state_c = keras.layers.LSTM(128, return_sequences=True, return_state=True, kernel_regularizer=regularizers.l2(0.5), name='lstm_1')(embedding)\n",
        "\n",
        "# Se obtiene la secuencia y el estado h2\n",
        "lstm_2_sequence, lstm_2_state_h, lstm_2_state_c = keras.layers.LSTM(128, return_sequences=True, return_state=True, kernel_regularizer=regularizers.l2(0.5), name='lstm_2')(lstm_1_sequence)\n",
        "\n",
        "#Se concatenan los dos estados de las LSTM anteriores\n",
        "stacked_lstm_output = keras.layers.Concatenate()([lstm_1_state_h, lstm_2_state_h]) # <tf.Tensor 'Reshape:0' shape=(?, 768) dtype=float32>\n",
        "\n",
        "# Se le entregan los estados a capas densas mlp\n",
        "output_layer_1 = keras.layers.Dense(128, activation='elu')(stacked_lstm_output)\n",
        "output_layer_2 = keras.layers.Dense(5, activation=None)(output_layer_1)\n",
        "\n",
        "#Se compila\n",
        "model = keras.models.Model(inputs=inputs, outputs=output_layer_2)\n",
        "model.summary()\n",
        "\n",
        "model.compile(optimizer=tf.keras.optimizers.Adam(0.001),\n",
        "              # loss='mse')\n",
        "              loss=loss_function_paper)##Se le entraga la funcion de perdida del paper\n",
        "              # loss=tf.keras.losses.BinaryCrossentropy())"
      ],
      "execution_count": null,
      "outputs": [
        {
          "output_type": "stream",
          "text": [
            "Model: \"model\"\n",
            "__________________________________________________________________________________________________\n",
            "Layer (type)                    Output Shape         Param #     Connected to                     \n",
            "==================================================================================================\n",
            "Inputs (InputLayer)             [(None, 10, 4)]      0                                            \n",
            "__________________________________________________________________________________________________\n",
            "dense (Dense)                   (None, 10, 128)      640         Inputs[0][0]                     \n",
            "__________________________________________________________________________________________________\n",
            "lstm_1 (LSTM)                   [(None, 10, 128), (N 131584      dense[0][0]                      \n",
            "__________________________________________________________________________________________________\n",
            "lstm_2 (LSTM)                   [(None, 10, 128), (N 131584      lstm_1[0][0]                     \n",
            "__________________________________________________________________________________________________\n",
            "concatenate (Concatenate)       (None, 256)          0           lstm_1[0][1]                     \n",
            "                                                                 lstm_2[0][1]                     \n",
            "__________________________________________________________________________________________________\n",
            "dense_1 (Dense)                 (None, 128)          32896       concatenate[0][0]                \n",
            "__________________________________________________________________________________________________\n",
            "dense_2 (Dense)                 (None, 5)            645         dense_1[0][0]                    \n",
            "==================================================================================================\n",
            "Total params: 297,349\n",
            "Trainable params: 297,349\n",
            "Non-trainable params: 0\n",
            "__________________________________________________________________________________________________\n"
          ],
          "name": "stdout"
        }
      ]
    },
    {
      "cell_type": "code",
      "metadata": {
        "id": "T7nK1HoXkuJi",
        "colab": {
          "base_uri": "https://localhost:8080/"
        },
        "outputId": "e4b36469-1e26-40d5-85ef-6848a1be3f76"
      },
      "source": [
        "historypaper = model.fit(X_train, y_train, validation_split=0.2, batch_size=1000, epochs=80, shuffle=True, callbacks=callbacks_paper)"
      ],
      "execution_count": null,
      "outputs": [
        {
          "output_type": "stream",
          "text": [
            "Epoch 1/80\n",
            "107/107 [==============================] - 70s 461ms/step - loss: nan - val_loss: nan\n",
            "Epoch 2/80\n",
            "107/107 [==============================] - 48s 447ms/step - loss: nan - val_loss: nan\n",
            "Epoch 3/80\n",
            "107/107 [==============================] - 48s 448ms/step - loss: nan - val_loss: nan\n",
            "Epoch 4/80\n",
            "107/107 [==============================] - 48s 447ms/step - loss: nan - val_loss: nan\n",
            "Epoch 5/80\n",
            "107/107 [==============================] - 48s 446ms/step - loss: nan - val_loss: nan\n",
            "Epoch 6/80\n",
            "107/107 [==============================] - 48s 446ms/step - loss: nan - val_loss: nan\n",
            "Epoch 7/80\n",
            "107/107 [==============================] - 48s 445ms/step - loss: nan - val_loss: nan\n",
            "Epoch 8/80\n",
            "107/107 [==============================] - 48s 446ms/step - loss: nan - val_loss: nan\n",
            "Epoch 9/80\n",
            "107/107 [==============================] - 48s 446ms/step - loss: nan - val_loss: nan\n",
            "Epoch 10/80\n",
            "107/107 [==============================] - 48s 446ms/step - loss: nan - val_loss: nan\n",
            "Epoch 11/80\n",
            "107/107 [==============================] - 48s 447ms/step - loss: nan - val_loss: nan\n",
            "Epoch 12/80\n",
            "107/107 [==============================] - 48s 447ms/step - loss: nan - val_loss: nan\n",
            "Epoch 13/80\n",
            "107/107 [==============================] - 48s 447ms/step - loss: nan - val_loss: nan\n",
            "Epoch 14/80\n",
            "107/107 [==============================] - 48s 445ms/step - loss: nan - val_loss: nan\n",
            "Epoch 15/80\n",
            "107/107 [==============================] - 48s 445ms/step - loss: nan - val_loss: nan\n",
            "Epoch 16/80\n",
            "107/107 [==============================] - 48s 446ms/step - loss: nan - val_loss: nan\n",
            "Epoch 17/80\n",
            "107/107 [==============================] - 48s 447ms/step - loss: nan - val_loss: nan\n",
            "Epoch 18/80\n",
            "107/107 [==============================] - 48s 446ms/step - loss: nan - val_loss: nan\n",
            "Epoch 19/80\n",
            "107/107 [==============================] - 48s 448ms/step - loss: nan - val_loss: nan\n",
            "Epoch 20/80\n",
            "107/107 [==============================] - 48s 446ms/step - loss: nan - val_loss: nan\n",
            "Epoch 21/80\n",
            "107/107 [==============================] - 48s 446ms/step - loss: nan - val_loss: nan\n",
            "Epoch 22/80\n",
            "107/107 [==============================] - 48s 446ms/step - loss: nan - val_loss: nan\n",
            "Epoch 23/80\n",
            "107/107 [==============================] - 48s 446ms/step - loss: nan - val_loss: nan\n",
            "Epoch 24/80\n",
            "107/107 [==============================] - 48s 446ms/step - loss: nan - val_loss: nan\n",
            "Epoch 25/80\n",
            "107/107 [==============================] - 48s 448ms/step - loss: nan - val_loss: nan\n"
          ],
          "name": "stdout"
        }
      ]
    },
    {
      "cell_type": "markdown",
      "metadata": {
        "id": "BKB5V7RXhrKr"
      },
      "source": [
        "# ... pero no se logró."
      ]
    }
  ]
}